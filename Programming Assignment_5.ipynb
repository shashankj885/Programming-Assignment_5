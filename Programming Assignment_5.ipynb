{
 "cells": [
  {
   "cell_type": "code",
   "execution_count": 18,
   "id": "4d576728",
   "metadata": {},
   "outputs": [
    {
     "name": "stdout",
     "output_type": "stream",
     "text": [
      "Enter first no.=10\n",
      "Enter second no.=20\n",
      "Enter third no.=30\n",
      "lcm of 3 numbers = 60\n"
     ]
    }
   ],
   "source": [
    "def lcm(x,y,z):\n",
    "    if x>y and x>z:\n",
    "        greater = x\n",
    "    elif z>x and z>y:\n",
    "        greater =z\n",
    "    else:\n",
    "        greater =y\n",
    "    while (True):\n",
    "        if ((greater % x==0 and greater %y==0 and greater %z==0)):\n",
    "            lcm = greater \n",
    "            break\n",
    "        greater +=1\n",
    "    return lcm\n",
    "n=int(input(\"Enter first no.=\"))\n",
    "m=int(input(\"Enter second no.=\"))\n",
    "o=int(input(\"Enter third no.=\"))\n",
    "print(\"lcm of 3 numbers =\",lcm(n,m,o))"
   ]
  },
  {
   "cell_type": "code",
   "execution_count": 19,
   "id": "ffd3be3e",
   "metadata": {},
   "outputs": [
    {
     "name": "stdout",
     "output_type": "stream",
     "text": [
      "Enter first no.=10\n",
      "Enter second no.=20\n",
      "Enter third no.=30\n",
      "hcf of 3 numbers = 10\n"
     ]
    }
   ],
   "source": [
    "def hcf(x,y,z):\n",
    "    if x<y and x<z:\n",
    "        lesser = x\n",
    "    elif z<x and z<y:\n",
    "        lesser =z\n",
    "    else:\n",
    "        lesser =y\n",
    "    while (True):\n",
    "            if ((x%lesser==0 and  y%lesser==0 and  z%lesser==0)):\n",
    "                hcf= lesser\n",
    "                break\n",
    "            lesser =lesser -1\n",
    "    return hcf\n",
    "n=int(input(\"Enter first no.=\"))\n",
    "m=int(input(\"Enter second no.=\"))\n",
    "o=int(input(\"Enter third no.=\"))\n",
    "print(\"hcf of 3 numbers =\",hcf(n,m,o))"
   ]
  },
  {
   "cell_type": "code",
   "execution_count": 39,
   "id": "5f669701",
   "metadata": {},
   "outputs": [
    {
     "name": "stdout",
     "output_type": "stream",
     "text": [
      "Enter any decimal number: 100\n",
      "1100100"
     ]
    }
   ],
   "source": [
    "def dtb(a):\n",
    "    if a > 1:\n",
    "        dtb(a // 2)\n",
    "    print(a % 2, end='')\n",
    "a = int(input(\"Enter any decimal number: \"))\n",
    "dtb(a)"
   ]
  },
  {
   "cell_type": "code",
   "execution_count": 11,
   "id": "3c72f151",
   "metadata": {},
   "outputs": [
    {
     "name": "stdout",
     "output_type": "stream",
     "text": [
      "Enter any decimal number: 100\n",
      "144"
     ]
    }
   ],
   "source": [
    "def dto(b):\n",
    "    if b > 1:\n",
    "        dto(b // 8)\n",
    "    print(b % 8, end='')\n",
    "b= int(input(\"Enter any decimal number: \"))\n",
    "dto(b)"
   ]
  },
  {
   "cell_type": "code",
   "execution_count": 14,
   "id": "75797a01",
   "metadata": {},
   "outputs": [
    {
     "name": "stdout",
     "output_type": "stream",
     "text": [
      "Enter any decimal number: 100\n",
      "064"
     ]
    }
   ],
   "source": [
    "def dth(c):\n",
    "    if c > 1:\n",
    "        dto(c // 16)\n",
    "    print(c % 16, end='')\n",
    "c= int(input(\"Enter any decimal number: \"))\n",
    "dt(c)"
   ]
  },
  {
   "cell_type": "code",
   "execution_count": 11,
   "id": "4db5d3a0",
   "metadata": {},
   "outputs": [
    {
     "name": "stdout",
     "output_type": "stream",
     "text": [
      "Enter any character= l\n",
      "The ASCII VALUE OF CHAR l is = 108\n"
     ]
    }
   ],
   "source": [
    "ch=input('Enter any character= ')\n",
    "print(\"The ASCII VALUE OF CHAR\", ch,\"is =\" , ord(ch))"
   ]
  },
  {
   "cell_type": "code",
   "execution_count": 10,
   "id": "f490a277",
   "metadata": {},
   "outputs": [
    {
     "name": "stdout",
     "output_type": "stream",
     "text": [
      "select operation\n",
      "1.add\n",
      "2.subtract\n",
      "3.multiply\n",
      "4.divide\n",
      "press -1/2/3/4 :4\n",
      "entre first no.=10\n",
      "entre second no.=20\n",
      "0.5\n"
     ]
    }
   ],
   "source": [
    "print(\"select operation\")\n",
    "print(\"1.add\")\n",
    "print(\"2.subtract\")\n",
    "print(\"3.multiply\")\n",
    "print(\"4.divide\")\n",
    "c=int(input(\"press -1/2/3/4 :\"))\n",
    "try:\n",
    "    a=int(input(\"entre first no.=\"))\n",
    "    b=int(input(\"entre second no.=\"))\n",
    "    if c==1:\n",
    "        print(a+b)\n",
    "    elif c==2:\n",
    "        print(a-b)\n",
    "    elif c==3:\n",
    "        print(a*b)\n",
    "    elif c==4:\n",
    "        print(a/b)\n",
    "    else:\n",
    "        print(\"Error, again select operation, press -1/2/3/4 :\")\n",
    "except(ZeroDivisionError):\n",
    "    print(\"Second digit must be greater than 0\")"
   ]
  }
 ],
 "metadata": {
  "kernelspec": {
   "display_name": "Python 3 (ipykernel)",
   "language": "python",
   "name": "python3"
  },
  "language_info": {
   "codemirror_mode": {
    "name": "ipython",
    "version": 3
   },
   "file_extension": ".py",
   "mimetype": "text/x-python",
   "name": "python",
   "nbconvert_exporter": "python",
   "pygments_lexer": "ipython3",
   "version": "3.9.12"
  }
 },
 "nbformat": 4,
 "nbformat_minor": 5
}
